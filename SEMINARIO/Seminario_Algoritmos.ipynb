{
  "nbformat": 4,
  "nbformat_minor": 0,
  "metadata": {
    "colab": {
      "provenance": [],
      "toc_visible": true,
      "include_colab_link": true
    },
    "kernelspec": {
      "name": "python3",
      "display_name": "Python 3"
    }
  },
  "cells": [
    {
      "cell_type": "markdown",
      "metadata": {
        "id": "view-in-github",
        "colab_type": "text"
      },
      "source": [
        "<a href=\"https://colab.research.google.com/github/xzavierlopez/03MIAR-Algoritmos-de-Optimizacion/blob/master/SEMINARIO/Seminario_Algoritmos.ipynb\" target=\"_parent\"><img src=\"https://colab.research.google.com/assets/colab-badge.svg\" alt=\"Open In Colab\"/></a>"
      ]
    },
    {
      "cell_type": "markdown",
      "metadata": {
        "id": "hVbXYX-RfPWh"
      },
      "source": [
        "# **Algoritmos de optimización - Seminario**<br>\n",
        "\n",
        "**Nombre y Apellidos**: Elvis Xavier López Yajamin   <br>\n",
        "\n",
        "**Url**:\n",
        "https://github.com/xzavierlopez/03MIAR-Algoritmos-de-Optimizacion/tree/master/SEMINARIO    \n",
        "\n",
        "**Problema**:\n",
        ">3. Combinar cifras y operaciones <br>\n",
        "\n",
        "**Descripción del problema**: <br>\n",
        "\n",
        "• Disponemos de las 9 cifras del 1 al 9 (excluimos el cero) y de los 4 signos básicos de las operaciones fundamentales: suma(+), resta(-), multiplicación(*) y división(/).\n",
        "\n",
        "• Debemos **combinarlos alternativamente sin repetir ninguno de ellos** para obtener una cantidad dada. Un ejemplo sería para obtener el 4:\n",
        "**4+2-6/3*1 = 4**\n",
        "\n",
        "• Debe analizarse el problema para encontrar todos los valores enteros posibles planteando las siguientes cuestiones:\n",
        "- ¿Qué valor máximo y mínimo se pueden obtener según las condiciones del problema?\n",
        "- ¿Es posible encontrar todos los valores enteros posibles entre dicho mínimo y máximo ?  \n",
        "> **Estas preguntas se responderán en el apartado correspondiente al diseño del algoritmo por fuerza bruta.**\n",
        "\n",
        "• Nota: Es posible usar la función de python “eval” para evaluar una expresión.\n",
        "\n",
        "**(*) La respuesta es obligatoria**\n",
        "\n",
        "\n",
        "\n",
        "\n",
        "\n",
        "                                        "
      ]
    },
    {
      "cell_type": "markdown",
      "source": [
        "# **(*) ¿Cuantas posibilidades hay sin tener en cuenta las restricciones?**  \n",
        "\n",
        "En este escenario **se permite la repetición** de números y operaciones.\n",
        "\n",
        "- **Números (5 huecos):**  \n",
        "  Cada hueco puede rellenarse con cualquiera de las 9 cifras (1–9).  \n",
        "  Esto corresponde a **variaciones con repetición**, cuya fórmula es:  \n",
        "\n",
        "  $$\n",
        "  V'(n,k) = n^k\n",
        "  $$\n",
        "\n",
        "  En nuestro caso:  \n",
        "\n",
        "  $$\n",
        "  9^5 = 59{,}049\n",
        "  $$\n",
        "\n",
        "- **Operaciones (4 huecos):**  \n",
        "  Cada hueco puede rellenarse con cualquiera de las 4 operaciones (+, −, x, /).  \n",
        "  También son **variaciones con repetición**:  \n",
        "\n",
        "  $$\n",
        "  4^4 = 256\n",
        "  $$\n",
        "\n",
        "- **Total de expresiones sin restricciones (regla del producto):**  \n",
        "\n",
        "  $$\n",
        "  9^5 \\times 4^4 = 59{,}049 \\times 256 = 15{,}116{,}544\n",
        "  $$\n",
        "\n",
        " ### **Resultado:**  \n",
        "\n",
        "$$\n",
        "\\boxed{15{,}116{,}544 \\;\\; \\text{expresiones posibles sin restricciones}}\n",
        "$$\n",
        "\n",
        "# **¿Cuantas posibilidades hay teniendo en cuenta todas las restricciones.**  \n",
        "\n",
        "En este escenario se aplican las reglas del enunciado:  \n",
        "- Se usan **5 cifras distintas** tomadas de (1,…,9), sin repetición.  \n",
        "- Se usan las **4 operaciones distintas** (+, −, x, /), cada una exactamente una vez.  \n",
        "\n",
        "- **Números (5 huecos):**  \n",
        "  Hay que elegir y ordenar 5 elementos distintos de entre 9.  \n",
        "  Esto corresponde a una **variación sin repetición**:  \n",
        "\n",
        "  $$\n",
        "  V(n,k) = \\frac{n!}{(n-k)!}\n",
        "  $$\n",
        "\n",
        "  En nuestro caso:  \n",
        "\n",
        "  $$\n",
        "  V(9,5) = \\frac{9!}{(9-5)!} = \\frac{9!}{4!} = 15{,}120\n",
        "  $$\n",
        "\n",
        "- **Operaciones (4 huecos):**  \n",
        "  Debemos usar las 4 operaciones distintas en los 4 huecos.  \n",
        "  Esto corresponde a una **permutación de 4 elementos**:  \n",
        "\n",
        "  $$\n",
        "  P(4) = 4! = 24\n",
        "  $$\n",
        "\n",
        "- **Total de expresiones con restricciones (regla del producto):**  \n",
        "\n",
        "  $$\n",
        "  V(9,5) \\times P(4) = 15{,}120 \\times 24 = 362{,}880\n",
        "  $$\n",
        "\n",
        "### **Resultado:**  \n",
        "\n",
        "$$\n",
        "\\boxed{362{,}880 \\;\\; \\text{expresiones posibles con restricciones}}\n",
        "$$\n",
        "\n",
        "\n",
        "\n",
        "### **Conclusión:**  \n",
        "Las restricciones reducen drásticamente el espacio de búsqueda: de más de **15 millones de expresiones posibles sin restricciones**, a solo **362 mil expresiones válidas cuando se exige no repetir números ni operaciones**."
      ],
      "metadata": {
        "id": "9kNLogIrjBMA"
      }
    },
    {
      "cell_type": "markdown",
      "metadata": {
        "id": "WfCUqJyKhPcw"
      },
      "source": [
        "Respuesta"
      ]
    },
    {
      "cell_type": "markdown",
      "metadata": {
        "id": "dzynfVJahHoY"
      },
      "source": [
        "# **Modelo para el espacio de soluciones**<br>\n",
        "# **(*) ¿Cual es la estructura de datos que mejor se adapta al problema? Argumentalo.**\n",
        "\n",
        "El problema consiste en generar expresiones alternadas entre números y operadores, evaluarlas y almacenar únicamente los resultados enteros junto con la expresión que los produce.  \n",
        "\n",
        "Para afrontarlo de forma eficiente en Python se proponen las siguientes estructuras:  \n",
        "\n",
        "  ### Generación de expresiones:\n",
        "\n",
        "  - **Recursos de partida**: Cifras (1–9) y operadores (+, −, *, /) se representarán con **listas**, ya que facilitan el recorrido y la generación de permutaciones con `itertools.permutations`.\n",
        "  - **Representación**: Cada combinación completa (expresión alternada) se guardará como **tupla** de símbolos para disponer de una representación inmutable y hashable.\n",
        "    - Ejemplo de tupla de expresión: `('4', '+', '2', '-', '6', '/', '3', '*', '1')`\n",
        "  - **Ventaja de tuplas**: Son inmutables y hashables, por lo que pueden usarse como claves en colecciones si es necesario.\n",
        "\n",
        "  ### Evaluación de expresiones:\n",
        "\n",
        "  - **Conversión**: La tupla de símbolos se convierte en una **cadena** (por ejemplo: `\"4+2-6/3*1\"`) y se evalúa con `eval()`.\n",
        "  - **Ventaja**: Esta representación es ligera y práctica, ya que aprovecha la precedencia de operadores de Python sin necesidad de programarla manualmente.\n",
        "\n",
        "  ### Almacenamiento de resultados:\n",
        "\n",
        "  - **Estructura**: Se usará un **diccionario** (`dict`) para registrar resultados enteros únicos y su(s) expresión(es) asociada(s):\n",
        "    - **Clave**: El resultado entero.\n",
        "    - **Valor**: La expresión en cadena, o una lista de expresiones si varias generan el mismo entero.\n",
        "  - **Ejemplo de diccionario**:\n",
        "    ```python\n",
        "    resultados = {\n",
        "        4:  [\"4+2-6/3*1\"],\n",
        "        10: [\"8+6-4*2/1\"]\n",
        "    }\n",
        "  - **Ventajas**:\n",
        "\n",
        "    - **Unicidad**: Cada entero aparece una sola vez como clave.\n",
        "    - **Trazabilidad**: Se conserva qué expresión (o expresiones) lo generó.\n",
        "\n",
        "### **Conclusión:**\n",
        "\n",
        "- **Listas**: Para manejar dígitos y operadores y generar permutaciones.\n",
        "- **Tuplas**: Para representar cada expresión alternada de forma inmutable y hashable.\n",
        "- **Cadenas**: Para evaluar directamente con `eval()`.\n",
        "- **Diccionarios**: Para guardar resultados enteros únicos y su(s) expresión(es), garantizando trazabilidad.\n",
        "\n",
        "Con esta combinación se obtiene un flujo claro y eficiente: listas para generar, tuplas para representar, cadenas para evaluar y diccionarios para almacenar resultados únicos.\n",
        "\n"
      ]
    },
    {
      "cell_type": "markdown",
      "metadata": {
        "id": "7Z9U2W7bi-XS"
      },
      "source": [
        "# **Según el modelo para el espacio de soluciones**<br>\n",
        "# **(*)¿Cual es la función objetivo?**    \n",
        "La función objetivo es el **resultado numérico de la expresión construida**, formada con 5 cifras distintas tomadas del 1 al 9 y las 4 operaciones básicas (+, −, *, /), colocadas de manera alternada.  \n",
        "\n",
        "El objetivo es que este resultado coincida con una **cantidad objetivo dada** \\(T\\):\n",
        "\n",
        "$$\n",
        "f(\\text{expresión}) = T\n",
        "$$\n",
        "\n",
        "# **(*)¿Es un problema de maximización o minimización?**   \n",
        "No se trata de un problema de maximización ni de minimización, sino de **viabilidad** o **satisfacción de restricciones**, ya que el propósito es comprobar si existe alguna combinación válida de cifras y operaciones que cumpla exactamente la condición anterior."
      ]
    },
    {
      "cell_type": "markdown",
      "metadata": {
        "id": "rlnTYgY1j6I2"
      },
      "source": [
        "# **Diseña un algoritmo para resolver el problema por fuerza bruta**"
      ]
    },
    {
      "cell_type": "markdown",
      "source": [
        "El algoritmo propuesto genera y evalúa **todas las combinaciones posibles** de expresiones formadas por cinco cifras distintas del 1 al 9 y los cuatro operadores básicos (`+`, `−`, `*`, `/`), cada uno usado **una sola vez** y colocados de forma **alternada**.\n",
        "\n",
        "La función `fuerza_bruta()` se encarga de construir todas las expresiones posibles y calcular su resultado. Luego, la función `buscar_expresiones_por_valor()` permite buscar, entre esos resultados, las expresiones que coinciden **exactamente** con un valor dado.\n"
      ],
      "metadata": {
        "id": "3HIGUocwaj2P"
      }
    },
    {
      "cell_type": "code",
      "source": [
        "from itertools import permutations           # para generar permutaciones sin repetición\n",
        "from fractions import Fraction              # para evitar errores de coma flotante en divisiones\n",
        "from collections import defaultdict          # para crear diccionarios con listas automáticas\n",
        "\n",
        "def fuerza_bruta():\n",
        "    \"\"\"\n",
        "    Genera todas las expresiones aritméticas posibles que combinan:\n",
        "\n",
        "    - 5 cifras distintas del 1 al 9 (sin repetir).\n",
        "    - 4 operadores básicos (+, −, *, /), usados una sola vez.\n",
        "    - Alternancia obligatoria: cifra, operador, cifra, ..., cifra.\n",
        "\n",
        "    Evalúa cada expresión y agrupa las que producen el mismo resultado\n",
        "    en un diccionario.\n",
        "\n",
        "    Returns:\n",
        "        dict[float, list[str]]:\n",
        "            Claves: resultados numéricos exactos.\n",
        "            Valores: listas de expresiones que los generan.\n",
        "    \"\"\"\n",
        "\n",
        "    # Cifras del 1 al 9 (sin incluir 0)\n",
        "    digitos = list(range(1, 10))\n",
        "\n",
        "    # Operadores aritméticos básicos\n",
        "    operadores = ['+', '-', '*', '/']\n",
        "\n",
        "    # Diccionario para agrupar expresiones por su resultado\n",
        "    resultado_dict = defaultdict(list)\n",
        "\n",
        "    # Generar todas las combinaciones posibles de cifras y operadores\n",
        "    for cifras in permutations(digitos, 5):       # 15.120 combinaciones de cifras\n",
        "        for ops in permutations(operadores):      # 24 combinaciones de operadores\n",
        "\n",
        "            # Construir expresión alternando cifra y operador\n",
        "            expresion = []\n",
        "            for i in range(5):\n",
        "                expresion.append(str(cifras[i]))  # añadir cifra\n",
        "                if i < 4:\n",
        "                    expresion.append(ops[i])      # añadir operador (solo entre cifras)\n",
        "\n",
        "            # Convertir a cadena\n",
        "            expresion_str = ''.join(expresion)\n",
        "\n",
        "            try:\n",
        "                # Evaluar la expresión de forma segura (sin builtins)\n",
        "                resultado = eval(expresion_str, {\"__builtins__\": None}, {})\n",
        "\n",
        "                # Convertir a float preciso usando Fraction\n",
        "                resultado_preciso = float(Fraction(str(resultado)))\n",
        "\n",
        "                # Añadir la expresión al diccionario\n",
        "                resultado_dict[resultado_preciso].append(expresion_str)\n",
        "\n",
        "            except ZeroDivisionError:\n",
        "                continue\n",
        "            except Exception:\n",
        "                continue\n",
        "\n",
        "    return resultado_dict"
      ],
      "metadata": {
        "id": "HzQafuHOCllU"
      },
      "execution_count": 1,
      "outputs": []
    },
    {
      "cell_type": "code",
      "source": [
        "def buscar_expresiones_por_valor(valor_objetivo):\n",
        "    \"\"\"\n",
        "    Busca expresiones aritméticas que generan un resultado\n",
        "    exactamente igual al valor entero proporcionado.\n",
        "\n",
        "    Las expresiones se generan mediante el algoritmo de fuerza bruta,\n",
        "    combinando cinco cifras distintas del 1 al 9 y los cuatro operadores\n",
        "    aritméticos básicos (+, −, *, /), usados una sola vez cada uno.\n",
        "\n",
        "    Parámetro:\n",
        "        valor_objetivo (int): Valor entero que se desea obtener como resultado.\n",
        "\n",
        "    Retorna:\n",
        "        - Lista de expresiones (como cadenas) que producen exactamente ese resultado.\n",
        "        - Mensaje si no se encuentra ninguna coincidencia.\n",
        "\n",
        "    \"\"\"\n",
        "\n",
        "    # Generar todas las expresiones posibles y sus resultados\n",
        "    resultado_dict_completo = fuerza_bruta()\n",
        "\n",
        "    # Filtrar solo los resultados que sean enteros\n",
        "    resultado_dict_enteros = {\n",
        "        int(k): v\n",
        "        for k, v in resultado_dict_completo.items()\n",
        "        if float(k).is_integer()\n",
        "    }\n",
        "\n",
        "    # Buscar el valor objetivo exacto entre los resultados enteros\n",
        "    expresiones = resultado_dict_enteros.get(valor_objetivo)\n",
        "\n",
        "    # Mostrar resultados si se encuentran expresiones\n",
        "    if expresiones:\n",
        "        cantidad = len(expresiones)\n",
        "        print(f\"Se encontraron {cantidad} expresiones que dan como resultado exacto {valor_objetivo}:\")\n",
        "        return expresiones\n",
        "\n",
        "    # Mostrar mensaje si no se encontró ninguna expresión válida\n",
        "    else:\n",
        "        return f\"No existen expresiones que den como resultado exacto {valor_objetivo}.\""
      ],
      "metadata": {
        "id": "v2_DJ63iUYha"
      },
      "execution_count": 2,
      "outputs": []
    },
    {
      "cell_type": "code",
      "source": [
        "#Comprobar resultados:\n",
        "buscar_expresiones_por_valor(-69)"
      ],
      "metadata": {
        "colab": {
          "base_uri": "https://localhost:8080/"
        },
        "id": "wLpodGeVSqHG",
        "outputId": "b76efc92-8b62-4b3e-9aa9-5e7a30c7932f"
      },
      "execution_count": 3,
      "outputs": [
        {
          "output_type": "stream",
          "name": "stdout",
          "text": [
            "Se encontraron 16 expresiones que dan como resultado exacto -69:\n"
          ]
        },
        {
          "output_type": "execute_result",
          "data": {
            "text/plain": [
              "['1+4/2-8*9',\n",
              " '1+4/2-9*8',\n",
              " '1+6/3-8*9',\n",
              " '1+6/3-9*8',\n",
              " '1-8*9+4/2',\n",
              " '1-8*9+6/3',\n",
              " '1-9*8+4/2',\n",
              " '1-9*8+6/3',\n",
              " '4/2+1-8*9',\n",
              " '4/2+1-9*8',\n",
              " '4/2-8*9+1',\n",
              " '4/2-9*8+1',\n",
              " '6/3+1-8*9',\n",
              " '6/3+1-9*8',\n",
              " '6/3-8*9+1',\n",
              " '6/3-9*8+1']"
            ]
          },
          "metadata": {},
          "execution_count": 3
        }
      ]
    },
    {
      "cell_type": "markdown",
      "source": [
        "## ¿Qué valor máximo y mínimo se pueden obtener según las condiciones del problema?"
      ],
      "metadata": {
        "id": "U-T1T4MwdWMH"
      }
    },
    {
      "cell_type": "code",
      "source": [
        "# Obtener todas las expresiones y resultados\n",
        "resultado_dict = fuerza_bruta()\n",
        "\n",
        "# Filtrar solo los resultados enteros\n",
        "enteros = [int(k) for k in resultado_dict.keys() if float(k).is_integer()]\n",
        "\n",
        "# Calcular mínimo y máximo\n",
        "valor_min = min(enteros)\n",
        "valor_max = max(enteros)\n",
        "\n",
        "print(f\"El valor entero mínimo es {valor_min} y el valor entero máximo es {valor_max}.\")"
      ],
      "metadata": {
        "colab": {
          "base_uri": "https://localhost:8080/"
        },
        "id": "dkO4R3u0dexS",
        "outputId": "74eea0e1-a148-497e-d382-5673b834df8a"
      },
      "execution_count": 4,
      "outputs": [
        {
          "output_type": "stream",
          "name": "stdout",
          "text": [
            "El valor entero mínimo es -69 y el valor entero máximo es 77.\n"
          ]
        }
      ]
    },
    {
      "cell_type": "markdown",
      "source": [
        "## ¿Es posible encontrar todos los valores enteros posibles entre dicho mínimo y máximo?"
      ],
      "metadata": {
        "id": "U6nN4ez7evRF"
      }
    },
    {
      "cell_type": "code",
      "source": [
        "# Generar el rango completo de valores enteros esperados\n",
        "rango_completo = list(range(valor_min, valor_max + 1))\n",
        "\n",
        "# Ordenar los valores enteros encontrados\n",
        "enteros = sorted(enteros)\n",
        "\n",
        "# Comprobar si los enteros encontrados cubren todo el rango\n",
        "if enteros == rango_completo:\n",
        "    print(\"Sí, es posible encontrar todos los valores enteros entre el mínimo y el máximo.\")\n",
        "    print(f\"Total de valores enteros encontrados: {len(enteros)}\")\n",
        "    print(enteros)\n",
        "else:\n",
        "    # Calcular qué valores faltan dentro del rango esperado\n",
        "    faltantes = sorted(set(rango_completo) - set(enteros))\n",
        "    print(\"No, no es posible encontrar todos los valores enteros entre el mínimo y el máximo.\")\n",
        "    print(f\"Faltan los siguientes valores: {faltantes}\")"
      ],
      "metadata": {
        "colab": {
          "base_uri": "https://localhost:8080/"
        },
        "id": "-u0anjQ4iOWy",
        "outputId": "58ed8b91-4e17-4de3-893a-04e8379d153d"
      },
      "execution_count": 5,
      "outputs": [
        {
          "output_type": "stream",
          "name": "stdout",
          "text": [
            "Sí, es posible encontrar todos los valores enteros entre el mínimo y el máximo.\n",
            "Total de valores enteros encontrados: 147\n",
            "[-69, -68, -67, -66, -65, -64, -63, -62, -61, -60, -59, -58, -57, -56, -55, -54, -53, -52, -51, -50, -49, -48, -47, -46, -45, -44, -43, -42, -41, -40, -39, -38, -37, -36, -35, -34, -33, -32, -31, -30, -29, -28, -27, -26, -25, -24, -23, -22, -21, -20, -19, -18, -17, -16, -15, -14, -13, -12, -11, -10, -9, -8, -7, -6, -5, -4, -3, -2, -1, 0, 1, 2, 3, 4, 5, 6, 7, 8, 9, 10, 11, 12, 13, 14, 15, 16, 17, 18, 19, 20, 21, 22, 23, 24, 25, 26, 27, 28, 29, 30, 31, 32, 33, 34, 35, 36, 37, 38, 39, 40, 41, 42, 43, 44, 45, 46, 47, 48, 49, 50, 51, 52, 53, 54, 55, 56, 57, 58, 59, 60, 61, 62, 63, 64, 65, 66, 67, 68, 69, 70, 71, 72, 73, 74, 75, 76, 77]\n"
          ]
        }
      ]
    },
    {
      "cell_type": "markdown",
      "metadata": {
        "id": "tgrnsC2nkFa8"
      },
      "source": [
        "# **Calcula la complejidad del algoritmo por fuerza bruta**"
      ]
    },
    {
      "cell_type": "markdown",
      "source": [
        "El algoritmo completo, que incluye tanto la generación de expresiones (`fuerza_bruta()`) como la búsqueda de un valor específico (`buscar_expresiones_por_valor()`), presenta una complejidad temporal factorial: **O(n! · m!)**.\n",
        "\n",
        "El crecimiento factorial proviene de la naturaleza exhaustiva del enfoque. A continuación, se detalla el análisis:\n",
        "\n",
        "1. **Generación de permutaciones de cifras**:  \n",
        "   El algoritmo genera todas las permutaciones posibles de cifras distintas tomadas de un conjunto de **n** dígitos. Este proceso tiene un coste factorial en función de **n**, ya que el número de permutaciones es **n!**.\n",
        "\n",
        "2. **Generación de permutaciones de operadores**:  \n",
        "   Para cada combinación de cifras, se consideran todas las permutaciones de los **m** operadores disponibles. Esto introduce un segundo coste factorial en función de **m**, dado que el número de permutaciones de operadores es **m!**.\n",
        "\n",
        "3. **Evaluación y almacenamiento**:  \n",
        "   Una vez construida cada expresión, las operaciones de evaluación y almacenamiento se realizan en tiempo constante **O(1)**, debido a los siguientes factores:  \n",
        "   - La construcción de la expresión siempre implica 9 elementos (5 cifras + 4 operadores). Como este número es fijo, el coste no depende de **n** ni de **m**.  \n",
        "   - La evaluación de la expresión procesa una cadena de longitud constante, por lo que el tiempo requerido es estable.  \n",
        "   - El almacenamiento en el diccionario se realiza mediante inserción en una estructura hash, que tiene un coste promedio de **O(1)**.  \n",
        "\n",
        "   Aunque estas operaciones se repitan para cada expresión, su impacto es constante y no altera el orden global de complejidad, que está dominado por la doble generación de permutaciones.\n",
        "\n",
        "4. **Fase de búsqueda**:  \n",
        "   Aunque en la fase de búsqueda solo se desee comprobar un valor concreto, es imprescindible haber generado previamente todo el espacio de expresiones. Por lo tanto, el coste computacional sigue estando gobernado por **O(n! · m!)**.\n",
        "\n",
        "En resumen, la complejidad temporal del algoritmo está determinada por la generación exhaustiva de permutaciones, resultando en una complejidad de **O(n! · m!)**."
      ],
      "metadata": {
        "id": "q4Uek2lA-lyd"
      }
    },
    {
      "cell_type": "markdown",
      "metadata": {
        "id": "txbrmLmskReM"
      },
      "source": [
        "# **(*)Diseña un algoritmo que mejore la complejidad del algortimo por fuerza bruta. Argumenta porque crees que mejora el algoritmo por fuerza bruta.**"
      ]
    },
    {
      "cell_type": "markdown",
      "source": [
        "El algoritmo original de fuerza bruta genera todas las permutaciones posibles de 5 cifras distintas ($P(9,5)$) y de 4 operadores ($4!$), construye las expresiones completas y las evalúa una por una. Esto implica un coste factorial en el número de dígitos y operadores.\n",
        "\n",
        "Para mejorar el algoritmo, se aplican técnicas clásicas de optimización:\n",
        "\n",
        "### Vuelta atrás (backtracking)\n",
        "\n",
        "- En lugar de generar todas las expresiones completas, construimos la expresión paso a paso.\n",
        "- En cada paso comprobamos restricciones y descartamos ramas inviables antes de completarlas.\n",
        "\n",
        "### Ramificación y poda (branch & bound)\n",
        "\n",
        "- Usamos reglas de poda que reducen drásticamente el espacio explorado.\n",
        "- Ejemplo: si ya no quedan operadores $\\times$ o $\\div$ y el resultado parcial no es entero, no podremos llegar nunca a un valor entero → se descarta esa rama inmediatamente.\n",
        "\n",
        "### Heurísticas de ordenación (best-first search)\n",
        "\n",
        "- Exploramos primero operadores más restrictivos ($\\times$ y $\\div$) y dígitos cercanos al objetivo.\n",
        "- Esto no cambia la complejidad teórica, pero en promedio reduce el número de nodos visitados y acelera la búsqueda de soluciones.\n"
      ],
      "metadata": {
        "id": "37Z6IZDsgT3U"
      }
    },
    {
      "cell_type": "code",
      "source": [
        "# -------------------------------------------------------\n",
        "# DESARROLO DEL ALGORITMO\n",
        "# -------------------------------------------------------\n",
        "\n",
        "# -------------------------------------------------------\n",
        "# Librerías\n",
        "# -------------------------------------------------------\n",
        "from fractions import Fraction\n",
        "import time\n",
        "import pandas as pd\n",
        "import io, sys\n",
        "import matplotlib.pyplot as plt\n",
        "\n",
        "# -------------------------------------------------------\n",
        "# Parámetros del problema\n",
        "# -------------------------------------------------------\n",
        "\n",
        "# Cifras del 1 al 9 (sin incluir 0)\n",
        "DIGITOS = list(range(1, 10))\n",
        "\n",
        "# Operadores aritméticos básicos\n",
        "OPERADORES = ['+', '-', '*', '/']\n",
        "\n",
        "# -------------------------------------------------------\n",
        "# Función\n",
        "# -------------------------------------------------------\n",
        "\n",
        "def buscar_expresiones_por_valor_opt(valor_objetivo: int):\n",
        "    \"\"\"\n",
        "    Busca TODAS las expresiones aritméticas posibles formadas con:\n",
        "        - Dígitos distintos entre 1 y 9\n",
        "        - Los 4 operadores básicos (+, -, *, /), cada uno usado una sola vez\n",
        "    que produzcan exactamente el número 'valor_objetivo'.\n",
        "\n",
        "    Estrategias aplicadas:\n",
        "    - Backtracking (DFS): se construye paso a paso la expresión probando todas las opciones.\n",
        "    - Branch & Bound (poda): se descartan ramas que matemáticamente no pueden llevar al objetivo.\n",
        "    - Heurísticas: se priorizan ciertos operadores y dígitos para intentar encontrar soluciones antes.\n",
        "\n",
        "    Parámetro:\n",
        "        valor_objetivo (int): el número entero que se quiere obtener.\n",
        "\n",
        "    Retorna:\n",
        "        - Lista de expresiones en formato string que generan el valor exacto.\n",
        "        - Un mensaje si no se encuentra ninguna.\n",
        "    \"\"\"\n",
        "\n",
        "    # El objetivo se maneja como fracción para evitar problemas de precisión con divisiones\n",
        "    objetivo = Fraction(valor_objetivo, 1)\n",
        "\n",
        "    # Lista donde guardaremos las expresiones que lleguen al resultado\n",
        "    resultados = []\n",
        "\n",
        "    # -------------------------------------------------------\n",
        "    # Funciones auxiliares para manejar la máscara de dígitos\n",
        "    # -------------------------------------------------------\n",
        "\n",
        "    def usado(mask, idx):\n",
        "        \"\"\"\n",
        "        Devuelve True si el dígito con índice 'idx' ya fue usado.\n",
        "        Usamos una máscara de bits (bitmask) para llevar el control.\n",
        "        \"\"\"\n",
        "        return (mask >> idx) & 1\n",
        "\n",
        "    def set_on(mask, idx):\n",
        "        \"\"\"\n",
        "        Marca el dígito 'idx' como usado en la máscara de bits.\n",
        "        \"\"\"\n",
        "        return mask | (1 << idx)\n",
        "\n",
        "    # -------------------------------------------------------\n",
        "    # DFS con backtracking\n",
        "    # -------------------------------------------------------\n",
        "\n",
        "    def dfs(mask, ops_left, pasos, acum, ultimo, expr):\n",
        "        \"\"\"\n",
        "        Recorre recursivamente el árbol de expresiones posibles.\n",
        "\n",
        "        Parámetros:\n",
        "            - mask: máscara de dígitos usados (ej: 010001010 → qué dígitos ya no puedo reutilizar)\n",
        "            - ops_left: cuántos operadores quedan disponibles (diccionario con conteo)\n",
        "            - pasos: cuántos operadores se han colocado hasta ahora\n",
        "            - acum: acumulador de los términos ya \"cerrados\"\n",
        "            - ultimo: término actual pendiente (se acumula con * o / hasta que llega un + o -)\n",
        "            - expr: string con la expresión parcial construida\n",
        "\n",
        "        Ejemplo:\n",
        "            Si tengo \"3+5*2\":\n",
        "                - acum = 3   (porque el + ya cerró ese término)\n",
        "                - ultimo = 10 (porque 5*2 aún no se ha sumado al acumulador)\n",
        "        \"\"\"\n",
        "\n",
        "        # -------------------------------\n",
        "        # CASO BASE: ya usamos los 4 operadores\n",
        "        # -------------------------------\n",
        "        if pasos == 4:  # => se usaron 5 dígitos\n",
        "            if acum + ultimo == objetivo:  # comprobamos si el resultado final coincide\n",
        "                resultados.append(expr)\n",
        "            return\n",
        "\n",
        "        # -------------------------------\n",
        "        # PODAS (Branch & Bound)\n",
        "        # -------------------------------\n",
        "\n",
        "        # Chequeo de consistencia:\n",
        "        # siempre debe cumplirse: dígitos usados = operadores usados + 1\n",
        "        usados = bin(mask).count(\"1\")\n",
        "        if usados != pasos + 1:\n",
        "            return\n",
        "\n",
        "        # Si ya no quedan multiplicaciones ni divisiones,\n",
        "        # lo único que puedo hacer es sumar/restar.\n",
        "        # En ese caso, si (acum+ultimo) ya es fracción (no entero),\n",
        "        # nunca llegaré a un entero final → corto rama.\n",
        "        if ops_left['*'] == 0 and ops_left['/'] == 0:\n",
        "            if (acum + ultimo).denominator != 1:\n",
        "                return\n",
        "\n",
        "        # -------------------------------\n",
        "        # EXPANSIÓN DE NODOS (probar operadores y dígitos)\n",
        "        # -------------------------------\n",
        "\n",
        "        # Ordenar operadores: primero los de mayor impacto en el valor\n",
        "        # Multiplicación y división tienden a ser más restrictivos → se prueban antes\n",
        "        orden_ops = sorted(\n",
        "            ['+', '-', '*', '/'],\n",
        "            key=lambda op: {'*': 0, '/': 1, '+': 2, '-': 3}[op]\n",
        "        )\n",
        "\n",
        "        for op in orden_ops:\n",
        "            if ops_left[op] == 0:\n",
        "                continue  # ese operador ya no está disponible\n",
        "\n",
        "            # Candidatos: todos los dígitos que aún no se usaron\n",
        "            libres = [(i, d) for i, d in enumerate(DIGITOS) if not usado(mask, i)]\n",
        "\n",
        "            # Heurística: probar primero los dígitos que acercan más al objetivo\n",
        "            libres.sort(key=lambda t: abs(valor_objetivo - (acum + ultimo) - t[1]))\n",
        "\n",
        "            for idx, d in libres:\n",
        "                nuevo_mask = set_on(mask, idx)  # marcamos como usado\n",
        "                nd = Fraction(d, 1)  # lo tratamos como fracción\n",
        "\n",
        "                # Actualización incremental según el operador\n",
        "                if op == '+':\n",
        "                    nuevo_acum, nuevo_ult = acum + ultimo, nd\n",
        "                elif op == '-':\n",
        "                    nuevo_acum, nuevo_ult = acum + ultimo, -nd\n",
        "                elif op == '*':\n",
        "                    nuevo_acum, nuevo_ult = acum, ultimo * nd\n",
        "                else:  # '/'\n",
        "                    if nd == 0:\n",
        "                        continue  # división entre 0 no permitida\n",
        "                    nuevo_acum, nuevo_ult = acum, ultimo / nd\n",
        "\n",
        "                # Backtracking: avanzo un paso y luego deshago\n",
        "                ops_left[op] -= 1\n",
        "                dfs(\n",
        "                    nuevo_mask,\n",
        "                    ops_left,\n",
        "                    pasos + 1,\n",
        "                    nuevo_acum,\n",
        "                    nuevo_ult,\n",
        "                    f\"{expr}{op}{d}\"\n",
        "                )\n",
        "                ops_left[op] += 1  # deshacer cambio (retroceso)\n",
        "\n",
        "    # -------------------------------------------------------\n",
        "    # ETAPA INICIAL: elegir primer dígito\n",
        "    # -------------------------------------------------------\n",
        "\n",
        "    starts = list(enumerate(DIGITOS))\n",
        "\n",
        "    # Heurística: empezar con dígitos cercanos al objetivo\n",
        "    starts.sort(key=lambda t: abs(abs(valor_objetivo) - t[1]))\n",
        "\n",
        "    for idx, d in starts:\n",
        "        mask = set_on(0, idx)  # marcamos el primer dígito como usado\n",
        "        ops_left = {'+': 1, '-': 1, '*': 1, '/': 1}\n",
        "        dfs(\n",
        "            mask,\n",
        "            ops_left,\n",
        "            pasos=0,\n",
        "            acum=Fraction(0, 1),   # acumulador vacío\n",
        "            ultimo=Fraction(d, 1), # el primer dígito se toma como \"término pendiente\"\n",
        "            expr=str(d)\n",
        "        )\n",
        "\n",
        "    # -------------------------------------------------------\n",
        "    # RESULTADOS\n",
        "    # -------------------------------------------------------\n",
        "    if resultados:\n",
        "        print(f\"Se encontraron {len(resultados)} expresiones que dan exactamente {valor_objetivo}:\")\n",
        "        return resultados\n",
        "    else:\n",
        "        return f\"No existen expresiones que den como resultado exacto {valor_objetivo}.\"\n"
      ],
      "metadata": {
        "id": "K4Va__DvojfY"
      },
      "execution_count": 6,
      "outputs": []
    },
    {
      "cell_type": "code",
      "source": [
        "#Comprobar resultados:\n",
        "buscar_expresiones_por_valor_opt(-69)"
      ],
      "metadata": {
        "colab": {
          "base_uri": "https://localhost:8080/"
        },
        "id": "MTCEzKDDs7k9",
        "outputId": "f20b8de3-7552-45fb-cf78-06e80eabbbe8"
      },
      "execution_count": 8,
      "outputs": [
        {
          "output_type": "stream",
          "name": "stdout",
          "text": [
            "Se encontraron 16 expresiones que dan exactamente -69:\n"
          ]
        },
        {
          "output_type": "execute_result",
          "data": {
            "text/plain": [
              "['6/3+1-8*9',\n",
              " '6/3+1-9*8',\n",
              " '6/3-8*9+1',\n",
              " '6/3-9*8+1',\n",
              " '4/2+1-8*9',\n",
              " '4/2+1-9*8',\n",
              " '4/2-8*9+1',\n",
              " '4/2-9*8+1',\n",
              " '1+4/2-8*9',\n",
              " '1+4/2-9*8',\n",
              " '1+6/3-8*9',\n",
              " '1+6/3-9*8',\n",
              " '1-8*9+4/2',\n",
              " '1-8*9+6/3',\n",
              " '1-9*8+4/2',\n",
              " '1-9*8+6/3']"
            ]
          },
          "metadata": {},
          "execution_count": 8
        }
      ]
    },
    {
      "cell_type": "markdown",
      "source": [
        "### Comparativa\n",
        "\n",
        "Se ha diseñado la función `benchmark` con el objetivo de **comparar el rendimiento** entre el algoritmo de fuerza bruta y el algoritmo optimizado mediante **backtracking y poda**.  \n",
        "\n",
        "La función aporta tres elementos clave:  \n",
        "- **Tiempos medios por ejecución** (calculados a partir de varias repeticiones para mayor precisión).  \n",
        "- **Speedup**, que indica cuántas veces más rápido es el algoritmo optimizado respecto al de fuerza bruta.  \n",
        "- **Gráfica comparativa**, donde se visualiza la diferencia de tiempos medios entre ambos enfoques.  \n",
        "\n",
        "**Resultados de la prueba**  \n",
        "En la imagen se muestran los resultados de ejecutar el benchmark con dos valores distintos (`valor_objetivo = 55` y `valor_objetivo = 4`), cada uno con 5 repeticiones:  \n",
        "\n",
        "- En ambos casos, el algoritmo optimizado es **aproximadamente 2.3 veces más rápido** que el de fuerza bruta.  \n",
        "- La diferencia en los **tiempos medios** es consistente: la fuerza bruta tarda alrededor de **6.5 segundos** frente a **2.7–2.8 segundos** del optimizado.  \n",
        "- La gráfica de barras refuerza visualmente esta mejora, mostrando claramente la reducción de tiempo al usar el enfoque optimizado.  "
      ],
      "metadata": {
        "id": "zp6jGvgf9Muf"
      }
    },
    {
      "cell_type": "code",
      "source": [
        "\n",
        "# ----------------------------------------------------------------------\n",
        "# Función para facilitar comparación entre tiempos medios de ejecución\n",
        "# ----------------------------------------------------------------------\n",
        "\n",
        "def benchmark(valor_objetivo, repeticiones=5):\n",
        "    \"\"\"\n",
        "    Compara el rendimiento entre la versión de fuerza bruta y la versión optimizada.\n",
        "\n",
        "    Parámetros:\n",
        "        valor_objetivo (int): número entero que se quiere obtener.\n",
        "        repeticiones (int): número de ejecuciones para calcular tiempos promedios (por defecto 5).\n",
        "\n",
        "    Retorna:\n",
        "        DataFrame con tiempos medios y speedup.\n",
        "    \"\"\"\n",
        "\n",
        "    def medir_tiempo(func, *args):\n",
        "        \"\"\"\n",
        "        Ejecuta una función 'repeticiones' veces midiendo el tiempo total.\n",
        "        Se silencia la salida estándar para evitar prints innecesarios.\n",
        "        \"\"\"\n",
        "        old_stdout = sys.stdout\n",
        "        sys.stdout = io.StringIO()  # silenciar prints\n",
        "        start = time.perf_counter()\n",
        "        for _ in range(repeticiones):\n",
        "            func(*args)\n",
        "        total = time.perf_counter() - start\n",
        "        sys.stdout = old_stdout\n",
        "        return round(total / repeticiones, 4)\n",
        "\n",
        "    # ---------------------------------\n",
        "    # Medir tiempos\n",
        "    # ---------------------------------\n",
        "    medio_fb = medir_tiempo(buscar_expresiones_por_valor, valor_objetivo)\n",
        "    medio_opt = medir_tiempo(buscar_expresiones_por_valor_opt, valor_objetivo)\n",
        "\n",
        "    # ---------------------------------\n",
        "    # Guardar resultados\n",
        "    # ---------------------------------\n",
        "    resultados = {\n",
        "        \"Fuerza bruta (medio)\": medio_fb,\n",
        "        \"Optimizado (medio)\": medio_opt,\n",
        "        \"Speedup\": round(medio_fb / medio_opt, 2)\n",
        "    }\n",
        "\n",
        "    df = pd.DataFrame([resultados])\n",
        "    df.index = [f\"Valor objetivo = {valor_objetivo}, repeticiones = {repeticiones}\"]\n",
        "\n",
        "    # ---------------------------------\n",
        "    # Mostrar resultados\n",
        "    # ---------------------------------\n",
        "\n",
        "    display(df)   # mostrar tabla UNA sola vez\n",
        "\n",
        "    # Gráfico de barras con los tiempos medios\n",
        "    plt.figure(figsize=(6,4))\n",
        "    plt.bar([\"Fuerza bruta\", \"Optimizado\"], [medio_fb, medio_opt], color=[\"#d9534f\", \"#5cb85c\"])\n",
        "    plt.ylabel(\"Tiempo medio (s)\")\n",
        "    plt.title(f\"Benchmark (valor={valor_objetivo}, repeticiones={repeticiones})\")\n",
        "    plt.show()"
      ],
      "metadata": {
        "id": "jhBSJKnzpbfu"
      },
      "execution_count": 7,
      "outputs": []
    },
    {
      "cell_type": "code",
      "source": [
        "# -------------------------------------------------------\n",
        "# Ejecutamos el benchmark con valor_objetivo = 55\n",
        "# -------------------------------------------------------\n",
        "benchmark(55)"
      ],
      "metadata": {
        "colab": {
          "base_uri": "https://localhost:8080/",
          "height": 455
        },
        "id": "k_obxGsjpctg",
        "outputId": "971c339f-8122-4ed5-e6a8-115474757e2f"
      },
      "execution_count": null,
      "outputs": [
        {
          "output_type": "display_data",
          "data": {
            "text/plain": [
              "                                       Fuerza bruta (medio)  \\\n",
              "Valor objetivo = 55, repeticiones = 5                 6.511   \n",
              "\n",
              "                                       Optimizado (medio)  Speedup  \n",
              "Valor objetivo = 55, repeticiones = 5              2.7661     2.35  "
            ],
            "text/html": [
              "\n",
              "  <div id=\"df-36bca265-a96d-42b6-b4f2-59948220f345\" class=\"colab-df-container\">\n",
              "    <div>\n",
              "<style scoped>\n",
              "    .dataframe tbody tr th:only-of-type {\n",
              "        vertical-align: middle;\n",
              "    }\n",
              "\n",
              "    .dataframe tbody tr th {\n",
              "        vertical-align: top;\n",
              "    }\n",
              "\n",
              "    .dataframe thead th {\n",
              "        text-align: right;\n",
              "    }\n",
              "</style>\n",
              "<table border=\"1\" class=\"dataframe\">\n",
              "  <thead>\n",
              "    <tr style=\"text-align: right;\">\n",
              "      <th></th>\n",
              "      <th>Fuerza bruta (medio)</th>\n",
              "      <th>Optimizado (medio)</th>\n",
              "      <th>Speedup</th>\n",
              "    </tr>\n",
              "  </thead>\n",
              "  <tbody>\n",
              "    <tr>\n",
              "      <th>Valor objetivo = 55, repeticiones = 5</th>\n",
              "      <td>6.511</td>\n",
              "      <td>2.7661</td>\n",
              "      <td>2.35</td>\n",
              "    </tr>\n",
              "  </tbody>\n",
              "</table>\n",
              "</div>\n",
              "    <div class=\"colab-df-buttons\">\n",
              "\n",
              "  <div class=\"colab-df-container\">\n",
              "    <button class=\"colab-df-convert\" onclick=\"convertToInteractive('df-36bca265-a96d-42b6-b4f2-59948220f345')\"\n",
              "            title=\"Convert this dataframe to an interactive table.\"\n",
              "            style=\"display:none;\">\n",
              "\n",
              "  <svg xmlns=\"http://www.w3.org/2000/svg\" height=\"24px\" viewBox=\"0 -960 960 960\">\n",
              "    <path d=\"M120-120v-720h720v720H120Zm60-500h600v-160H180v160Zm220 220h160v-160H400v160Zm0 220h160v-160H400v160ZM180-400h160v-160H180v160Zm440 0h160v-160H620v160ZM180-180h160v-160H180v160Zm440 0h160v-160H620v160Z\"/>\n",
              "  </svg>\n",
              "    </button>\n",
              "\n",
              "  <style>\n",
              "    .colab-df-container {\n",
              "      display:flex;\n",
              "      gap: 12px;\n",
              "    }\n",
              "\n",
              "    .colab-df-convert {\n",
              "      background-color: #E8F0FE;\n",
              "      border: none;\n",
              "      border-radius: 50%;\n",
              "      cursor: pointer;\n",
              "      display: none;\n",
              "      fill: #1967D2;\n",
              "      height: 32px;\n",
              "      padding: 0 0 0 0;\n",
              "      width: 32px;\n",
              "    }\n",
              "\n",
              "    .colab-df-convert:hover {\n",
              "      background-color: #E2EBFA;\n",
              "      box-shadow: 0px 1px 2px rgba(60, 64, 67, 0.3), 0px 1px 3px 1px rgba(60, 64, 67, 0.15);\n",
              "      fill: #174EA6;\n",
              "    }\n",
              "\n",
              "    .colab-df-buttons div {\n",
              "      margin-bottom: 4px;\n",
              "    }\n",
              "\n",
              "    [theme=dark] .colab-df-convert {\n",
              "      background-color: #3B4455;\n",
              "      fill: #D2E3FC;\n",
              "    }\n",
              "\n",
              "    [theme=dark] .colab-df-convert:hover {\n",
              "      background-color: #434B5C;\n",
              "      box-shadow: 0px 1px 3px 1px rgba(0, 0, 0, 0.15);\n",
              "      filter: drop-shadow(0px 1px 2px rgba(0, 0, 0, 0.3));\n",
              "      fill: #FFFFFF;\n",
              "    }\n",
              "  </style>\n",
              "\n",
              "    <script>\n",
              "      const buttonEl =\n",
              "        document.querySelector('#df-36bca265-a96d-42b6-b4f2-59948220f345 button.colab-df-convert');\n",
              "      buttonEl.style.display =\n",
              "        google.colab.kernel.accessAllowed ? 'block' : 'none';\n",
              "\n",
              "      async function convertToInteractive(key) {\n",
              "        const element = document.querySelector('#df-36bca265-a96d-42b6-b4f2-59948220f345');\n",
              "        const dataTable =\n",
              "          await google.colab.kernel.invokeFunction('convertToInteractive',\n",
              "                                                    [key], {});\n",
              "        if (!dataTable) return;\n",
              "\n",
              "        const docLinkHtml = 'Like what you see? Visit the ' +\n",
              "          '<a target=\"_blank\" href=https://colab.research.google.com/notebooks/data_table.ipynb>data table notebook</a>'\n",
              "          + ' to learn more about interactive tables.';\n",
              "        element.innerHTML = '';\n",
              "        dataTable['output_type'] = 'display_data';\n",
              "        await google.colab.output.renderOutput(dataTable, element);\n",
              "        const docLink = document.createElement('div');\n",
              "        docLink.innerHTML = docLinkHtml;\n",
              "        element.appendChild(docLink);\n",
              "      }\n",
              "    </script>\n",
              "  </div>\n",
              "\n",
              "\n",
              "    </div>\n",
              "  </div>\n"
            ],
            "application/vnd.google.colaboratory.intrinsic+json": {
              "type": "dataframe",
              "summary": "{\n  \"name\": \"benchmark(55)\",\n  \"rows\": 1,\n  \"fields\": [\n    {\n      \"column\": \"Fuerza bruta (medio)\",\n      \"properties\": {\n        \"dtype\": \"number\",\n        \"std\": null,\n        \"min\": 6.511,\n        \"max\": 6.511,\n        \"num_unique_values\": 1,\n        \"samples\": [\n          6.511\n        ],\n        \"semantic_type\": \"\",\n        \"description\": \"\"\n      }\n    },\n    {\n      \"column\": \"Optimizado (medio)\",\n      \"properties\": {\n        \"dtype\": \"number\",\n        \"std\": null,\n        \"min\": 2.7661,\n        \"max\": 2.7661,\n        \"num_unique_values\": 1,\n        \"samples\": [\n          2.7661\n        ],\n        \"semantic_type\": \"\",\n        \"description\": \"\"\n      }\n    },\n    {\n      \"column\": \"Speedup\",\n      \"properties\": {\n        \"dtype\": \"number\",\n        \"std\": null,\n        \"min\": 2.35,\n        \"max\": 2.35,\n        \"num_unique_values\": 1,\n        \"samples\": [\n          2.35\n        ],\n        \"semantic_type\": \"\",\n        \"description\": \"\"\n      }\n    }\n  ]\n}"
            }
          },
          "metadata": {}
        },
        {
          "output_type": "display_data",
          "data": {
            "text/plain": [
              "<Figure size 600x400 with 1 Axes>"
            ],
            "image/png": "[encoded data removed]"
          },
          "metadata": {}
        }
      ]
    },
    {
      "cell_type": "code",
      "source": [
        "# -------------------------------------------------------\n",
        "# Ejecutamos el benchmark con valor_objetivo = 4\n",
        "# -------------------------------------------------------\n",
        "benchmark(4)"
      ],
      "metadata": {
        "colab": {
          "base_uri": "https://localhost:8080/",
          "height": 455
        },
        "id": "PD1o_6tTvxf2",
        "outputId": "82f9ace3-ec05-4a98-874e-c1112b92206d"
      },
      "execution_count": null,
      "outputs": [
        {
          "output_type": "display_data",
          "data": {
            "text/plain": [
              "                                      Fuerza bruta (medio)  \\\n",
              "Valor objetivo = 4, repeticiones = 5                 6.512   \n",
              "\n",
              "                                      Optimizado (medio)  Speedup  \n",
              "Valor objetivo = 4, repeticiones = 5              2.7441     2.37  "
            ],
            "text/html": [
              "\n",
              "  <div id=\"df-b91dc697-10b9-4889-8737-f10c21090209\" class=\"colab-df-container\">\n",
              "    <div>\n",
              "<style scoped>\n",
              "    .dataframe tbody tr th:only-of-type {\n",
              "        vertical-align: middle;\n",
              "    }\n",
              "\n",
              "    .dataframe tbody tr th {\n",
              "        vertical-align: top;\n",
              "    }\n",
              "\n",
              "    .dataframe thead th {\n",
              "        text-align: right;\n",
              "    }\n",
              "</style>\n",
              "<table border=\"1\" class=\"dataframe\">\n",
              "  <thead>\n",
              "    <tr style=\"text-align: right;\">\n",
              "      <th></th>\n",
              "      <th>Fuerza bruta (medio)</th>\n",
              "      <th>Optimizado (medio)</th>\n",
              "      <th>Speedup</th>\n",
              "    </tr>\n",
              "  </thead>\n",
              "  <tbody>\n",
              "    <tr>\n",
              "      <th>Valor objetivo = 4, repeticiones = 5</th>\n",
              "      <td>6.512</td>\n",
              "      <td>2.7441</td>\n",
              "      <td>2.37</td>\n",
              "    </tr>\n",
              "  </tbody>\n",
              "</table>\n",
              "</div>\n",
              "    <div class=\"colab-df-buttons\">\n",
              "\n",
              "  <div class=\"colab-df-container\">\n",
              "    <button class=\"colab-df-convert\" onclick=\"convertToInteractive('df-b91dc697-10b9-4889-8737-f10c21090209')\"\n",
              "            title=\"Convert this dataframe to an interactive table.\"\n",
              "            style=\"display:none;\">\n",
              "\n",
              "  <svg xmlns=\"http://www.w3.org/2000/svg\" height=\"24px\" viewBox=\"0 -960 960 960\">\n",
              "    <path d=\"M120-120v-720h720v720H120Zm60-500h600v-160H180v160Zm220 220h160v-160H400v160Zm0 220h160v-160H400v160ZM180-400h160v-160H180v160Zm440 0h160v-160H620v160ZM180-180h160v-160H180v160Zm440 0h160v-160H620v160Z\"/>\n",
              "  </svg>\n",
              "    </button>\n",
              "\n",
              "  <style>\n",
              "    .colab-df-container {\n",
              "      display:flex;\n",
              "      gap: 12px;\n",
              "    }\n",
              "\n",
              "    .colab-df-convert {\n",
              "      background-color: #E8F0FE;\n",
              "      border: none;\n",
              "      border-radius: 50%;\n",
              "      cursor: pointer;\n",
              "      display: none;\n",
              "      fill: #1967D2;\n",
              "      height: 32px;\n",
              "      padding: 0 0 0 0;\n",
              "      width: 32px;\n",
              "    }\n",
              "\n",
              "    .colab-df-convert:hover {\n",
              "      background-color: #E2EBFA;\n",
              "      box-shadow: 0px 1px 2px rgba(60, 64, 67, 0.3), 0px 1px 3px 1px rgba(60, 64, 67, 0.15);\n",
              "      fill: #174EA6;\n",
              "    }\n",
              "\n",
              "    .colab-df-buttons div {\n",
              "      margin-bottom: 4px;\n",
              "    }\n",
              "\n",
              "    [theme=dark] .colab-df-convert {\n",
              "      background-color: #3B4455;\n",
              "      fill: #D2E3FC;\n",
              "    }\n",
              "\n",
              "    [theme=dark] .colab-df-convert:hover {\n",
              "      background-color: #434B5C;\n",
              "      box-shadow: 0px 1px 3px 1px rgba(0, 0, 0, 0.15);\n",
              "      filter: drop-shadow(0px 1px 2px rgba(0, 0, 0, 0.3));\n",
              "      fill: #FFFFFF;\n",
              "    }\n",
              "  </style>\n",
              "\n",
              "    <script>\n",
              "      const buttonEl =\n",
              "        document.querySelector('#df-b91dc697-10b9-4889-8737-f10c21090209 button.colab-df-convert');\n",
              "      buttonEl.style.display =\n",
              "        google.colab.kernel.accessAllowed ? 'block' : 'none';\n",
              "\n",
              "      async function convertToInteractive(key) {\n",
              "        const element = document.querySelector('#df-b91dc697-10b9-4889-8737-f10c21090209');\n",
              "        const dataTable =\n",
              "          await google.colab.kernel.invokeFunction('convertToInteractive',\n",
              "                                                    [key], {});\n",
              "        if (!dataTable) return;\n",
              "\n",
              "        const docLinkHtml = 'Like what you see? Visit the ' +\n",
              "          '<a target=\"_blank\" href=https://colab.research.google.com/notebooks/data_table.ipynb>data table notebook</a>'\n",
              "          + ' to learn more about interactive tables.';\n",
              "        element.innerHTML = '';\n",
              "        dataTable['output_type'] = 'display_data';\n",
              "        await google.colab.output.renderOutput(dataTable, element);\n",
              "        const docLink = document.createElement('div');\n",
              "        docLink.innerHTML = docLinkHtml;\n",
              "        element.appendChild(docLink);\n",
              "      }\n",
              "    </script>\n",
              "  </div>\n",
              "\n",
              "\n",
              "    </div>\n",
              "  </div>\n"
            ],
            "application/vnd.google.colaboratory.intrinsic+json": {
              "type": "dataframe",
              "summary": "{\n  \"name\": \"benchmark(4)\",\n  \"rows\": 1,\n  \"fields\": [\n    {\n      \"column\": \"Fuerza bruta (medio)\",\n      \"properties\": {\n        \"dtype\": \"number\",\n        \"std\": null,\n        \"min\": 6.512,\n        \"max\": 6.512,\n        \"num_unique_values\": 1,\n        \"samples\": [\n          6.512\n        ],\n        \"semantic_type\": \"\",\n        \"description\": \"\"\n      }\n    },\n    {\n      \"column\": \"Optimizado (medio)\",\n      \"properties\": {\n        \"dtype\": \"number\",\n        \"std\": null,\n        \"min\": 2.7441,\n        \"max\": 2.7441,\n        \"num_unique_values\": 1,\n        \"samples\": [\n          2.7441\n        ],\n        \"semantic_type\": \"\",\n        \"description\": \"\"\n      }\n    },\n    {\n      \"column\": \"Speedup\",\n      \"properties\": {\n        \"dtype\": \"number\",\n        \"std\": null,\n        \"min\": 2.37,\n        \"max\": 2.37,\n        \"num_unique_values\": 1,\n        \"samples\": [\n          2.37\n        ],\n        \"semantic_type\": \"\",\n        \"description\": \"\"\n      }\n    }\n  ]\n}"
            }
          },
          "metadata": {}
        },
        {
          "output_type": "display_data",
          "data": {
            "text/plain": [
              "<Figure size 600x400 with 1 Axes>"
            ],
            "image/png": "[encoded data removed]"
          },
          "metadata": {}
        }
      ]
    },
    {
      "cell_type": "markdown",
      "metadata": {
        "id": "eGDB4K6uk1iN"
      },
      "source": [
        "# **(*)Calcula la complejidad del algoritmo**"
      ]
    },
    {
      "cell_type": "markdown",
      "source": [
        "\n",
        "\n",
        "### Diferencia respecto a la fuerza bruta\n",
        "\n",
        "- **Fuerza bruta**: siempre genera todas las expresiones completas, sin excepciones.  \n",
        "- **Optimizado**: descarta ramas inviables mediante podas, reduciendo así el espacio explorado y evitando evaluaciones innecesarias.  \n",
        "\n",
        "\n",
        "### Complejidad teórica y práctica\n",
        "\n",
        "- **Complejidad en peor caso**: sigue siendo factorial, ya que en el escenario más desfavorable podría explorarse todo el espacio:\n",
        "\n",
        "$$\n",
        "O(n! \\cdot m!)\n",
        "$$\n",
        "\n",
        "- **Complejidad en promedio**: al aplicar podas y evaluaciones incrementales, se explora solo una fracción del árbol de búsqueda. El coste real se aproxima a:\n",
        "\n",
        "$$\n",
        "O(\\alpha \\cdot n! \\cdot m!)\n",
        "$$  \n",
        "\n",
        "con $\\alpha < 1$, donde $\\alpha$ representa la fracción de combinaciones realmente exploradas.  \n",
        "\n",
        "\n",
        "### Justificación de la mejora\n",
        "\n",
        "- **Impacto real**:  \n",
        "  - Menos expresiones generadas gracias a la poda temprana.  \n",
        "  - Menos evaluaciones, ya que no se usa `eval` sobre cadenas, sino evaluación incremental con `Fraction`.  \n",
        "  - Soluciones encontradas antes al priorizar ramas más prometedoras mediante heurísticas.  \n",
        "\n",
        "\n",
        "### Conclusión\n",
        "\n",
        "Aunque la **complejidad permanece factorial** en el peor caso, el algoritmo optimizado logra una **eficiencia práctica mucho mayor** al reducir significativamente el número de combinaciones exploradas y acelerar la obtención de soluciones.  \n",
        "\n",
        "Gracias al uso de **backtracking, poda y evaluación incremental**, se consigue una **disminución notable del tiempo de ejecución**, lo que convierte al algoritmo en una herramienta mucho más útil para resolver instancias reales en menos tiempo.\n"
      ],
      "metadata": {
        "id": "LOvTjkyRfsIS"
      }
    },
    {
      "cell_type": "markdown",
      "metadata": {
        "id": "3M6QjTsSkmYe"
      },
      "source": [
        "# **Según el problema (y tenga sentido), diseña un juego de datos de entrada aleatorios**"
      ]
    },
    {
      "cell_type": "markdown",
      "metadata": {
        "id": "Jc3_OlyNkvjZ"
      },
      "source": [
        "En este caso no resulta necesario generar datos de entrada aleatorios, ya que el algoritmo de fuerza bruta explora de forma exhaustiva todas las combinaciones posibles de cifras y operadores. De este modo, el espacio de búsqueda queda completamente cubierto sin depender del azar.  \n"
      ]
    },
    {
      "cell_type": "markdown",
      "metadata": {
        "id": "zy5ZROmjlGo1"
      },
      "source": [
        "# **Aplica el algoritmo al juego de datos generado**"
      ]
    },
    {
      "cell_type": "markdown",
      "metadata": {
        "id": "_Cmj-PVylMsa"
      },
      "source": [
        "Dado lo explicado en el punto anterior, **no procede aplicar el algoritmo a un conjunto aleatorio**.  \n",
        "\n"
      ]
    },
    {
      "cell_type": "markdown",
      "metadata": {
        "id": "eTFWUJQrtGcv"
      },
      "source": [
        "# **Enumera las referencias que has utilizado(si ha sido necesario) para llevar a cabo el trabajo**"
      ]
    },
    {
      "cell_type": "markdown",
      "metadata": {
        "id": "YKQ_mRBttWsP"
      },
      "source": [
        "\n",
        "1. Universidad Internacional de Valencia (VIU). (2025). *Apuntes y recursos de la asignatura Algoritmos de Optimización*. Material docente en el aula virtual.  \n",
        "2. Universidad Internacional de Valencia (VIU). (2025). *Apuntes y recursos de la asignatura Python para la Inteligencia Artificial*. Material docente en el aula virtual.  \n",
        "3. YouTube. (2023). *Introduction to Big-O* [Video]. https://www.youtube.com/watch?v=zUUkiEllHG0&t=715s  "
      ]
    },
    {
      "cell_type": "markdown",
      "metadata": {
        "id": "kAkDPUyRtYyH"
      },
      "source": [
        "# **Describe brevemente las lineas de como crees que es posible avanzar en el estudio del problema. Ten en cuenta incluso posibles variaciones del problema y/o variaciones al alza del tamaño.**"
      ]
    },
    {
      "cell_type": "markdown",
      "metadata": {
        "id": "IE0uZmo-tZu-"
      },
      "source": [
        "#### 1. Aumento del Tamaño del Problema\n",
        "Una extensión natural es ampliar el conjunto de cifras (incluir el 0, permitir repeticiones o usar números de varias cifras) o añadir más operadores.  \n",
        "Esto expande el espacio de búsqueda de manera exponencial, lo que exige técnicas más avanzadas, como **gramáticas dirigidas** para generar solo expresiones válidas o **expansión por niveles** que limite la profundidad de exploración.\n",
        "\n",
        "#### 2. Optimización Algorítmica\n",
        "Aunque la versión con backtracking ya utiliza poda y heurísticas, es posible mejorarla con:  \n",
        "- **Memoización de subexpresiones**, evitando recomputaciones.  \n",
        "- **Meet-in-the-middle**, dividiendo el problema en dos mitades y combinando resultados.  \n",
        "- **Bitmask DP**, para representar y gestionar subconjuntos de cifras de forma eficiente.  \n",
        "\n",
        "#### 3. Variaciones del Problema\n",
        "El enfoque puede adaptarse a nuevas condiciones, como:  \n",
        "- Uso de **paréntesis** o cambios en la **precedencia de operadores**.  \n",
        "- Inclusión de **operadores unarios** (negación, valor absoluto, raíz).  \n",
        "- **Concatenación de cifras** para formar números mayores.  \n",
        "- Relajar la obligación de usar todos los operadores o permitir repeticiones."
      ]
    }
  ]
}