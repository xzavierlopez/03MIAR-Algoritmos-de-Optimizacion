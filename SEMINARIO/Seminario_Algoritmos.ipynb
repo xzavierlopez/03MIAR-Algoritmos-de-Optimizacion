{
  "nbformat": 4,
  "nbformat_minor": 0,
  "metadata": {
    "colab": {
      "provenance": [],
      "include_colab_link": true
    },
    "kernelspec": {
      "name": "python3",
      "display_name": "Python 3"
    }
  },
  "cells": [
    {
      "cell_type": "markdown",
      "metadata": {
        "id": "view-in-github",
        "colab_type": "text"
      },
      "source": [
        "<a href=\"https://colab.research.google.com/github/xzavierlopez/03MIAR-Algoritmos-de-Optimizacion/blob/master/SEMINARIO/Seminario_Algoritmos.ipynb\" target=\"_parent\"><img src=\"https://colab.research.google.com/assets/colab-badge.svg\" alt=\"Open In Colab\"/></a>"
      ]
    },
    {
      "cell_type": "markdown",
      "metadata": {
        "id": "hVbXYX-RfPWh"
      },
      "source": [
        "# **Algoritmos de optimización - Seminario**<br>\n",
        "\n",
        "**Nombre y Apellidos**: Elvis Xavier López Yajamin   <br>\n",
        "\n",
        "**Url**: https://github.com/.../03MAIR---Algoritmos-de-Optimizacion---2019/tree/master/SEMINARIO<br>\n",
        "\n",
        "**Problema**:\n",
        ">3. Combinar cifras y operaciones <br>\n",
        "\n",
        "**Descripción del problema**: <br>\n",
        "\n",
        "• Disponemos de las 9 cifras del 1 al 9 (excluimos el cero) y de los 4 signos básicos de las operaciones fundamentales: suma(+), resta(-), multiplicación(*) y división(/).\n",
        "\n",
        "• Debemos **combinarlos alternativamente sin repetir ninguno de ellos** para obtener una cantidad dada. Un ejemplo sería para obtener el 4:\n",
        "**4+2-6/3*1 = 4**\n",
        "\n",
        "• Debe analizarse el problema para encontrar todos los valores enteros posibles planteando las siguientes cuestiones:\n",
        "- ¿Qué valor máximo y mínimo se pueden obtener según las condiciones del problema?\n",
        "- ¿Es posible encontrar todos los valores enteros posibles entre dicho mínimo y máximo ?  \n",
        "> **Estas preguntas se responderán en el apartado correspondiente al diseño del algoritmo por fuerza bruta.**\n",
        "\n",
        "• Nota: Es posible usar la función de python “eval” para evaluar una expresión.\n",
        "\n",
        "**(*) La respuesta es obligatoria**\n",
        "\n",
        "\n",
        "\n",
        "\n",
        "\n",
        "                                        "
      ]
    },
    {
      "cell_type": "markdown",
      "source": [
        "# **(*) ¿Cuantas posibilidades hay sin tener en cuenta las restricciones?**  \n",
        "\n",
        "En este escenario **se permite la repetición** de números y operaciones.\n",
        "\n",
        "- **Números (5 huecos):**  \n",
        "  Cada hueco puede rellenarse con cualquiera de las 9 cifras (1–9).  \n",
        "  Esto corresponde a **variaciones con repetición**, cuya fórmula es:  \n",
        "\n",
        "  $$\n",
        "  V'(n,k) = n^k\n",
        "  $$\n",
        "\n",
        "  En nuestro caso:  \n",
        "\n",
        "  $$\n",
        "  9^5 = 59{,}049\n",
        "  $$\n",
        "\n",
        "- **Operaciones (4 huecos):**  \n",
        "  Cada hueco puede rellenarse con cualquiera de las 4 operaciones (+, −, x, /).  \n",
        "  También son **variaciones con repetición**:  \n",
        "\n",
        "  $$\n",
        "  4^4 = 256\n",
        "  $$\n",
        "\n",
        "- **Total de expresiones sin restricciones (regla del producto):**  \n",
        "\n",
        "  $$\n",
        "  9^5 \\times 4^4 = 59{,}049 \\times 256 = 15{,}116{,}544\n",
        "  $$\n",
        "\n",
        " ### **Resultado:**  \n",
        "\n",
        "$$\n",
        "\\boxed{15{,}116{,}544 \\;\\; \\text{expresiones posibles sin restricciones}}\n",
        "$$\n",
        "\n",
        "# **¿Cuantas posibilidades hay teniendo en cuenta todas las restricciones.**  \n",
        "\n",
        "En este escenario se aplican las reglas del enunciado:  \n",
        "- Se usan **5 cifras distintas** tomadas de (1,…,9), sin repetición.  \n",
        "- Se usan las **4 operaciones distintas** (+, −, x, /), cada una exactamente una vez.  \n",
        "\n",
        "- **Números (5 huecos):**  \n",
        "  Hay que elegir y ordenar 5 elementos distintos de entre 9.  \n",
        "  Esto corresponde a una **variación sin repetición**:  \n",
        "\n",
        "  $$\n",
        "  V(n,k) = \\frac{n!}{(n-k)!}\n",
        "  $$\n",
        "\n",
        "  En nuestro caso:  \n",
        "\n",
        "  $$\n",
        "  V(9,5) = \\frac{9!}{(9-5)!} = \\frac{9!}{4!} = 15{,}120\n",
        "  $$\n",
        "\n",
        "- **Operaciones (4 huecos):**  \n",
        "  Debemos usar las 4 operaciones distintas en los 4 huecos.  \n",
        "  Esto corresponde a una **permutación de 4 elementos**:  \n",
        "\n",
        "  $$\n",
        "  P(4) = 4! = 24\n",
        "  $$\n",
        "\n",
        "- **Total de expresiones con restricciones (regla del producto):**  \n",
        "\n",
        "  $$\n",
        "  V(9,5) \\times P(4) = 15{,}120 \\times 24 = 362{,}880\n",
        "  $$\n",
        "\n",
        "### **Resultado:**  \n",
        "\n",
        "$$\n",
        "\\boxed{362{,}880 \\;\\; \\text{expresiones posibles con restricciones}}\n",
        "$$\n",
        "\n",
        "\n",
        "\n",
        "### **Conclusión:**  \n",
        "Las restricciones reducen drásticamente el espacio de búsqueda: de más de **15 millones de expresiones posibles sin restricciones**, a solo **362 mil expresiones válidas cuando se exige no repetir números ni operaciones**."
      ],
      "metadata": {
        "id": "9kNLogIrjBMA"
      }
    },
    {
      "cell_type": "markdown",
      "metadata": {
        "id": "WfCUqJyKhPcw"
      },
      "source": [
        "Respuesta"
      ]
    },
    {
      "cell_type": "markdown",
      "metadata": {
        "id": "dzynfVJahHoY"
      },
      "source": [
        "# **Modelo para el espacio de soluciones**<br>\n",
        "# **(*) ¿Cual es la estructura de datos que mejor se adapta al problema? Argumentalo.**\n",
        "\n",
        "El problema consiste en generar expresiones alternadas entre números y operadores, evaluarlas y almacenar únicamente los resultados enteros junto con la expresión que los produce.  \n",
        "\n",
        "Para afrontarlo de forma eficiente en Python se proponen las siguientes estructuras:  \n",
        "\n",
        "  ### Generación de expresiones:\n",
        "\n",
        "  - **Recursos de partida**: Cifras (1–9) y operadores (+, −, *, /) se representarán con **listas**, ya que facilitan el recorrido y la generación de permutaciones con `itertools.permutations`.\n",
        "  - **Representación**: Cada combinación completa (expresión alternada) se guardará como **tupla** de símbolos para disponer de una representación inmutable y hashable.\n",
        "    - Ejemplo de tupla de expresión: `('4', '+', '2', '-', '6', '/', '3', '*', '1')`\n",
        "  - **Ventaja de tuplas**: Son inmutables y hashables, por lo que pueden usarse como claves en colecciones si es necesario.\n",
        "\n",
        "  ### Evaluación de expresiones:\n",
        "\n",
        "  - **Conversión**: La tupla de símbolos se convierte en una **cadena** (por ejemplo: `\"4+2-6/3*1\"`) y se evalúa con `eval()`.\n",
        "  - **Ventaja**: Esta representación es ligera y práctica, ya que aprovecha la precedencia de operadores de Python sin necesidad de programarla manualmente.\n",
        "\n",
        "  ### Almacenamiento de resultados:\n",
        "\n",
        "  - **Estructura**: Se usará un **diccionario** (`dict`) para registrar resultados enteros únicos y su(s) expresión(es) asociada(s):\n",
        "    - **Clave**: El resultado entero.\n",
        "    - **Valor**: La expresión en cadena, o una lista de expresiones si varias generan el mismo entero.\n",
        "  - **Ejemplo de diccionario**:\n",
        "    ```python\n",
        "    resultados = {\n",
        "        4:  [\"4+2-6/3*1\"],\n",
        "        10: [\"8+6-4*2/1\"]\n",
        "    }\n",
        "  - **Ventajas**:\n",
        "\n",
        "    - **Unicidad**: Cada entero aparece una sola vez como clave.\n",
        "    - **Trazabilidad**: Se conserva qué expresión (o expresiones) lo generó.\n",
        "\n",
        "### **Conclusión:**\n",
        "\n",
        "- **Listas**: Para manejar dígitos y operadores y generar permutaciones.\n",
        "- **Tuplas**: Para representar cada expresión alternada de forma inmutable y hashable.\n",
        "- **Cadenas**: Para evaluar directamente con `eval()`.\n",
        "- **Diccionarios**: Para guardar resultados enteros únicos y su(s) expresión(es), garantizando trazabilidad.\n",
        "\n",
        "Con esta combinación se obtiene un flujo claro y eficiente: listas para generar, tuplas para representar, cadenas para evaluar y diccionarios para almacenar resultados únicos.\n",
        "\n"
      ]
    },
    {
      "cell_type": "markdown",
      "metadata": {
        "id": "7Z9U2W7bi-XS"
      },
      "source": [
        "# **Según el modelo para el espacio de soluciones**<br>\n",
        "# **(*)¿Cual es la función objetivo?**    \n",
        "La función objetivo es el **resultado numérico de la expresión construida**, formada con 5 cifras distintas tomadas del 1 al 9 y las 4 operaciones básicas (+, −, *, /), colocadas de manera alternada.  \n",
        "\n",
        "El objetivo es que este resultado coincida con una **cantidad objetivo dada** \\(T\\):\n",
        "\n",
        "$$\n",
        "f(\\text{expresión}) = T\n",
        "$$\n",
        "\n",
        "# **(*)¿Es un problema de maximización o minimización?**   \n",
        "No se trata de un problema de maximización ni de minimización, sino de **viabilidad** o **satisfacción de restricciones**, ya que el propósito es comprobar si existe alguna combinación válida de cifras y operaciones que cumpla exactamente la condición anterior."
      ]
    },
    {
      "cell_type": "markdown",
      "metadata": {
        "id": "hBalWLM7j1_d"
      },
      "source": [
        "Respuesta"
      ]
    },
    {
      "cell_type": "markdown",
      "metadata": {
        "id": "rlnTYgY1j6I2"
      },
      "source": [
        "# **Diseña un algoritmo para resolver el problema por fuerza bruta**"
      ]
    },
    {
      "cell_type": "markdown",
      "source": [
        "El algoritmo propuesto genera y evalúa **todas las combinaciones posibles** de expresiones formadas por cinco cifras distintas del 1 al 9 y los cuatro operadores básicos (`+`, `−`, `*`, `/`), cada uno usado **una sola vez** y colocados de forma **alternada**.\n",
        "\n",
        "La función `fuerza_bruta()` se encarga de construir todas las expresiones posibles y calcular su resultado. Luego, la función `buscar_expresiones_por_valor()` permite buscar, entre esos resultados, las expresiones que coinciden **exactamente** con un valor dado.\n"
      ],
      "metadata": {
        "id": "3HIGUocwaj2P"
      }
    },
    {
      "cell_type": "code",
      "source": [
        "from itertools import permutations           # para generar permutaciones sin repetición\n",
        "from fractions import Fraction              # para evitar errores de coma flotante en divisiones\n",
        "from collections import defaultdict          # para crear diccionarios con listas automáticas\n",
        "\n",
        "def fuerza_bruta():\n",
        "    \"\"\"\n",
        "    Genera todas las expresiones aritméticas posibles que combinan:\n",
        "\n",
        "    - 5 cifras distintas del 1 al 9 (sin repetir).\n",
        "    - 4 operadores básicos (+, −, *, /), usados una sola vez.\n",
        "    - Alternancia obligatoria: cifra, operador, cifra, ..., cifra.\n",
        "\n",
        "    Evalúa cada expresión y agrupa las que producen el mismo resultado\n",
        "    en un diccionario.\n",
        "\n",
        "    Returns:\n",
        "        dict[float, list[str]]:\n",
        "            Claves: resultados numéricos exactos.\n",
        "            Valores: listas de expresiones que los generan.\n",
        "    \"\"\"\n",
        "\n",
        "    # Cifras del 1 al 9 (sin incluir 0)\n",
        "    digitos = list(range(1, 10))\n",
        "\n",
        "    # Operadores aritméticos básicos\n",
        "    operadores = ['+', '-', '*', '/']\n",
        "\n",
        "    # Diccionario para agrupar expresiones por su resultado\n",
        "    resultado_dict = defaultdict(list)\n",
        "\n",
        "    # Generar todas las combinaciones posibles de cifras y operadores\n",
        "    for cifras in permutations(digitos, 5):       # 15.120 combinaciones de cifras\n",
        "        for ops in permutations(operadores):      # 24 combinaciones de operadores\n",
        "\n",
        "            # Construir expresión alternando cifra y operador\n",
        "            expresion = []\n",
        "            for i in range(5):\n",
        "                expresion.append(str(cifras[i]))  # añadir cifra\n",
        "                if i < 4:\n",
        "                    expresion.append(ops[i])      # añadir operador (solo entre cifras)\n",
        "\n",
        "            # Convertir a cadena\n",
        "            expresion_str = ''.join(expresion)\n",
        "\n",
        "            try:\n",
        "                # Evaluar la expresión de forma segura (sin builtins)\n",
        "                resultado = eval(expresion_str, {\"__builtins__\": None}, {})\n",
        "\n",
        "                # Convertir a float preciso usando Fraction\n",
        "                resultado_preciso = float(Fraction(str(resultado)))\n",
        "\n",
        "                # Añadir la expresión al diccionario\n",
        "                resultado_dict[resultado_preciso].append(expresion_str)\n",
        "\n",
        "            except ZeroDivisionError:\n",
        "                continue\n",
        "            except Exception:\n",
        "                continue\n",
        "\n",
        "    return resultado_dict"
      ],
      "metadata": {
        "id": "HzQafuHOCllU"
      },
      "execution_count": null,
      "outputs": []
    },
    {
      "cell_type": "code",
      "source": [
        "def buscar_expresiones_por_valor(valor_objetivo):\n",
        "    \"\"\"\n",
        "    Busca expresiones aritméticas que generan un resultado\n",
        "    exactamente igual al valor entero proporcionado.\n",
        "\n",
        "    Las expresiones se generan mediante el algoritmo de fuerza bruta,\n",
        "    combinando cinco cifras distintas del 1 al 9 y los cuatro operadores\n",
        "    aritméticos básicos (+, −, *, /), usados una sola vez cada uno.\n",
        "\n",
        "    Parámetro:\n",
        "        valor_objetivo (int): Valor entero que se desea obtener como resultado.\n",
        "\n",
        "    Retorna:\n",
        "        - Lista de expresiones (como cadenas) que producen exactamente ese resultado.\n",
        "        - Mensaje si no se encuentra ninguna coincidencia.\n",
        "\n",
        "    \"\"\"\n",
        "\n",
        "    # Generar todas las expresiones posibles y sus resultados\n",
        "    resultado_dict_completo = fuerza_bruta()\n",
        "\n",
        "    # Filtrar solo los resultados que sean enteros\n",
        "    resultado_dict_enteros = {\n",
        "        int(k): v\n",
        "        for k, v in resultado_dict_completo.items()\n",
        "        if float(k).is_integer()\n",
        "    }\n",
        "\n",
        "    # Buscar el valor objetivo exacto entre los resultados enteros\n",
        "    expresiones = resultado_dict_enteros.get(valor_objetivo)\n",
        "\n",
        "    # Mostrar resultados si se encuentran expresiones\n",
        "    if expresiones:\n",
        "        cantidad = len(expresiones)\n",
        "        print(f\"Se encontraron {cantidad} expresiones que dan como resultado exacto {valor_objetivo}:\")\n",
        "        return expresiones\n",
        "\n",
        "    # Mostrar mensaje si no se encontró ninguna expresión válida\n",
        "    else:\n",
        "        return f\"No existen expresiones que den como resultado exacto {valor_objetivo}.\""
      ],
      "metadata": {
        "id": "v2_DJ63iUYha"
      },
      "execution_count": null,
      "outputs": []
    },
    {
      "cell_type": "code",
      "source": [
        "#Comprobar resultados:\n",
        "buscar_expresiones_por_valor(-69)"
      ],
      "metadata": {
        "colab": {
          "base_uri": "https://localhost:8080/"
        },
        "id": "wLpodGeVSqHG",
        "outputId": "d53362d2-af46-4a11-9f77-627908f8b5c9"
      },
      "execution_count": null,
      "outputs": [
        {
          "output_type": "stream",
          "name": "stdout",
          "text": [
            "Se encontraron 16 expresiones que dan como resultado exacto -69:\n"
          ]
        },
        {
          "output_type": "execute_result",
          "data": {
            "text/plain": [
              "['1+4/2-8*9',\n",
              " '1+4/2-9*8',\n",
              " '1+6/3-8*9',\n",
              " '1+6/3-9*8',\n",
              " '1-8*9+4/2',\n",
              " '1-8*9+6/3',\n",
              " '1-9*8+4/2',\n",
              " '1-9*8+6/3',\n",
              " '4/2+1-8*9',\n",
              " '4/2+1-9*8',\n",
              " '4/2-8*9+1',\n",
              " '4/2-9*8+1',\n",
              " '6/3+1-8*9',\n",
              " '6/3+1-9*8',\n",
              " '6/3-8*9+1',\n",
              " '6/3-9*8+1']"
            ]
          },
          "metadata": {},
          "execution_count": 63
        }
      ]
    },
    {
      "cell_type": "markdown",
      "source": [
        "## ¿Qué valor máximo y mínimo se pueden obtener según las condiciones del problema?"
      ],
      "metadata": {
        "id": "U-T1T4MwdWMH"
      }
    },
    {
      "cell_type": "code",
      "source": [
        "# Obtener todas las expresiones y resultados\n",
        "resultado_dict = fuerza_bruta()\n",
        "\n",
        "# Filtrar solo los resultados enteros\n",
        "enteros = [int(k) for k in resultado_dict.keys() if float(k).is_integer()]\n",
        "\n",
        "# Calcular mínimo y máximo\n",
        "valor_min = min(enteros)\n",
        "valor_max = max(enteros)\n",
        "\n",
        "print(f\"El valor entero mínimo es {valor_min} y el valor entero máximo es {valor_max}.\")"
      ],
      "metadata": {
        "colab": {
          "base_uri": "https://localhost:8080/"
        },
        "id": "dkO4R3u0dexS",
        "outputId": "6c57f4a0-1393-40cb-f2bd-26db366b3680"
      },
      "execution_count": null,
      "outputs": [
        {
          "output_type": "stream",
          "name": "stdout",
          "text": [
            "El valor entero mínimo es -69 y el valor entero máximo es 77.\n"
          ]
        }
      ]
    },
    {
      "cell_type": "markdown",
      "source": [
        "## ¿Es posible encontrar todos los valores enteros posibles entre dicho mínimo y máximo?"
      ],
      "metadata": {
        "id": "U6nN4ez7evRF"
      }
    },
    {
      "cell_type": "code",
      "source": [
        "# Generar el rango completo de valores enteros esperados\n",
        "rango_completo = list(range(valor_min, valor_max + 1))\n",
        "\n",
        "# Ordenar los valores enteros encontrados\n",
        "enteros = sorted(enteros)\n",
        "\n",
        "# Comprobar si los enteros encontrados cubren todo el rango\n",
        "if enteros == rango_completo:\n",
        "    print(\"Sí, es posible encontrar todos los valores enteros entre el mínimo y el máximo.\")\n",
        "    print(f\"Total de valores enteros encontrados: {len(enteros)}\")\n",
        "    print(enteros)\n",
        "else:\n",
        "    # Calcular qué valores faltan dentro del rango esperado\n",
        "    faltantes = sorted(set(rango_completo) - set(enteros))\n",
        "    print(\"No, no es posible encontrar todos los valores enteros entre el mínimo y el máximo.\")\n",
        "    print(f\"Faltan los siguientes valores: {faltantes}\")"
      ],
      "metadata": {
        "colab": {
          "base_uri": "https://localhost:8080/"
        },
        "id": "-u0anjQ4iOWy",
        "outputId": "ad92c939-dfa3-41ee-da7e-29a807107113"
      },
      "execution_count": null,
      "outputs": [
        {
          "output_type": "stream",
          "name": "stdout",
          "text": [
            "Sí, es posible encontrar todos los valores enteros entre el mínimo y el máximo.\n",
            "Total de valores enteros encontrados: 147\n",
            "[-69, -68, -67, -66, -65, -64, -63, -62, -61, -60, -59, -58, -57, -56, -55, -54, -53, -52, -51, -50, -49, -48, -47, -46, -45, -44, -43, -42, -41, -40, -39, -38, -37, -36, -35, -34, -33, -32, -31, -30, -29, -28, -27, -26, -25, -24, -23, -22, -21, -20, -19, -18, -17, -16, -15, -14, -13, -12, -11, -10, -9, -8, -7, -6, -5, -4, -3, -2, -1, 0, 1, 2, 3, 4, 5, 6, 7, 8, 9, 10, 11, 12, 13, 14, 15, 16, 17, 18, 19, 20, 21, 22, 23, 24, 25, 26, 27, 28, 29, 30, 31, 32, 33, 34, 35, 36, 37, 38, 39, 40, 41, 42, 43, 44, 45, 46, 47, 48, 49, 50, 51, 52, 53, 54, 55, 56, 57, 58, 59, 60, 61, 62, 63, 64, 65, 66, 67, 68, 69, 70, 71, 72, 73, 74, 75, 76, 77]\n"
          ]
        }
      ]
    },
    {
      "cell_type": "markdown",
      "metadata": {
        "id": "tgrnsC2nkFa8"
      },
      "source": [
        "# **Calcula la complejidad del algoritmo por fuerza bruta**"
      ]
    },
    {
      "cell_type": "markdown",
      "source": [
        "El algoritmo completo, que incluye tanto la generación de expresiones (`fuerza_bruta()`) como la búsqueda de un valor específico (`buscar_expresiones_por_valor()`), presenta una complejidad temporal factorial: **O(n! · m!)**.\n",
        "\n",
        "El crecimiento factorial proviene de la naturaleza exhaustiva del enfoque. A continuación, se detalla el análisis:\n",
        "\n",
        "1. **Generación de permutaciones de cifras**:  \n",
        "   El algoritmo genera todas las permutaciones posibles de cifras distintas tomadas de un conjunto de **n** dígitos. Este proceso tiene un coste factorial en función de **n**, ya que el número de permutaciones es **n!**.\n",
        "\n",
        "2. **Generación de permutaciones de operadores**:  \n",
        "   Para cada combinación de cifras, se consideran todas las permutaciones de los **m** operadores disponibles. Esto introduce un segundo coste factorial en función de **m**, dado que el número de permutaciones de operadores es **m!**.\n",
        "\n",
        "3. **Evaluación y almacenamiento**:  \n",
        "   Una vez construida cada expresión, las operaciones de evaluación y almacenamiento se realizan en tiempo constante **O(1)**, debido a los siguientes factores:  \n",
        "   - La construcción de la expresión siempre implica 9 elementos (5 cifras + 4 operadores). Como este número es fijo, el coste no depende de **n** ni de **m**.  \n",
        "   - La evaluación de la expresión procesa una cadena de longitud constante, por lo que el tiempo requerido es estable.  \n",
        "   - El almacenamiento en el diccionario se realiza mediante inserción en una estructura hash, que tiene un coste promedio de **O(1)**.  \n",
        "\n",
        "   Aunque estas operaciones se repitan para cada expresión, su impacto es constante y no altera el orden global de complejidad, que está dominado por la doble generación de permutaciones.\n",
        "\n",
        "4. **Fase de búsqueda**:  \n",
        "   Aunque en la fase de búsqueda solo se desee comprobar un valor concreto, es imprescindible haber generado previamente todo el espacio de expresiones. Por lo tanto, el coste computacional sigue estando gobernado por **O(n! · m!)**.\n",
        "\n",
        "En resumen, la complejidad temporal del algoritmo está determinada por la generación exhaustiva de permutaciones, resultando en una complejidad de **O(n! · m!)**."
      ],
      "metadata": {
        "id": "q4Uek2lA-lyd"
      }
    },
    {
      "cell_type": "markdown",
      "metadata": {
        "id": "txbrmLmskReM"
      },
      "source": [
        "## (*)Diseña un algoritmo que mejore la complejidad del algortimo por fuerza bruta. Argumenta porque crees que mejora el algoritmo por fuerza bruta"
      ]
    },
    {
      "cell_type": "markdown",
      "metadata": {
        "id": "hLrVwt5QkZPD"
      },
      "source": [
        "Respuesta"
      ]
    },
    {
      "cell_type": "code",
      "metadata": {
        "id": "m1eyM21Vkabg"
      },
      "source": [],
      "execution_count": null,
      "outputs": []
    },
    {
      "cell_type": "markdown",
      "metadata": {
        "id": "eGDB4K6uk1iN"
      },
      "source": [
        "## (*)Calcula la complejidad del algoritmo"
      ]
    },
    {
      "cell_type": "markdown",
      "metadata": {
        "id": "NhpTh_BPk1ms"
      },
      "source": [
        "Respuesta"
      ]
    },
    {
      "cell_type": "code",
      "metadata": {
        "id": "nREzhkStlCq8"
      },
      "source": [],
      "execution_count": null,
      "outputs": []
    },
    {
      "cell_type": "markdown",
      "metadata": {
        "id": "3M6QjTsSkmYe"
      },
      "source": [
        "## Según el problema (y tenga sentido), diseña un juego de datos de entrada aleatorios"
      ]
    },
    {
      "cell_type": "markdown",
      "metadata": {
        "id": "Jc3_OlyNkvjZ"
      },
      "source": [
        "Respuesta"
      ]
    },
    {
      "cell_type": "code",
      "metadata": {
        "id": "sJ-N2etjkyWc"
      },
      "source": [],
      "execution_count": null,
      "outputs": []
    },
    {
      "cell_type": "markdown",
      "metadata": {
        "id": "zy5ZROmjlGo1"
      },
      "source": [
        "## Aplica el algoritmo al juego de datos generado"
      ]
    },
    {
      "cell_type": "markdown",
      "metadata": {
        "id": "_Cmj-PVylMsa"
      },
      "source": [
        "Respuesta"
      ]
    },
    {
      "cell_type": "code",
      "metadata": {
        "id": "Jkx8GeiYlUz1"
      },
      "source": [],
      "execution_count": null,
      "outputs": []
    },
    {
      "cell_type": "markdown",
      "metadata": {
        "id": "eTFWUJQrtGcv"
      },
      "source": [
        "## Enumera las referencias que has utilizado(si ha sido necesario) para llevar a cabo el trabajo"
      ]
    },
    {
      "cell_type": "markdown",
      "metadata": {
        "id": "YKQ_mRBttWsP"
      },
      "source": [
        "Respuesta"
      ]
    },
    {
      "cell_type": "markdown",
      "metadata": {
        "id": "kAkDPUyRtYyH"
      },
      "source": [
        "## Describe brevemente las lineas de como crees que es posible avanzar en el estudio del problema. Ten en cuenta incluso posibles variaciones del problema y/o variaciones al alza del tamaño"
      ]
    },
    {
      "cell_type": "markdown",
      "metadata": {
        "id": "IE0uZmo-tZu-"
      },
      "source": [
        "Respuesta"
      ]
    }
  ]
}